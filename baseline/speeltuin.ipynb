{
  "nbformat": 4,
  "nbformat_minor": 0,
  "metadata": {
    "colab": {
      "name": "speeltuin.ipynb",
      "provenance": [],
      "collapsed_sections": []
    },
    "kernelspec": {
      "name": "python3",
      "display_name": "Python 3"
    }
  },
  "cells": [
    {
      "cell_type": "markdown",
      "metadata": {
        "id": "UJfSsKnieC-R"
      },
      "source": [
        "# System baseline\n",
        "**Gemaakt door Jantina Schakel, Durk Betsema, Leon Wetzel en Rik Zijlema**\n",
        "\n",
        "\n",
        "In dit notebook bekijken we wat een mogelijke goede baseline kan zijn. Ook wordt gekeken naar de verdeling van de *trialdata* in het kader van SemEval 2021 Task 1."
      ]
    },
    {
      "cell_type": "code",
      "metadata": {
        "id": "akyZtkUZeQXD"
      },
      "source": [
        "import sys\n",
        "import os\n",
        "import csv\n",
        "\n",
        "from collections import defaultdict\n",
        "from sklearn import linear_model\n",
        "from sklearn import svm\n",
        "from sklearn.naive_bayes import MultinomialNB\n",
        "from sklearn.model_selection import train_test_split\n",
        "from sklearn.model_selection import KFold\n",
        "from sklearn.metrics import mean_squared_error\n",
        "from sklearn import preprocessing\n",
        "from sklearn.preprocessing import MinMaxScaler\n",
        "\n",
        "import pandas as pd\n",
        "import numpy as np\n",
        "import matplotlib.pyplot as plt\n",
        "\n",
        "\n",
        "pd.set_option('display.max_rows', None)"
      ],
      "execution_count": null,
      "outputs": []
    },
    {
      "cell_type": "code",
      "metadata": {
        "id": "KDeI9hwVfGs4",
        "outputId": "a3d7be24-f0ab-4e60-c1a0-e06367459e6d",
        "colab": {
          "base_uri": "https://localhost:8080/",
          "height": 34
        }
      },
      "source": [
        "# IMPORT Google drive\n",
        "from google.colab import drive\n",
        "drive.mount('/content/gdrive')"
      ],
      "execution_count": null,
      "outputs": [
        {
          "output_type": "stream",
          "text": [
            "Mounted at /content/gdrive\n"
          ],
          "name": "stdout"
        }
      ]
    },
    {
      "cell_type": "code",
      "metadata": {
        "id": "WqdG5OfKkKxC"
      },
      "source": [
        "WORKING_DIR = '/content/gdrive/My Drive/2020 - 2021 1 Shared Task Information Science/Assignment 2 - System baseline'\n",
        "\n",
        "MULTI_TRIAL_FILE_NAME = \"lcp_multi_trial.tsv\"\n",
        "SINGLE_TRIAL_FILE_NAME = \"lcp_single_trial.tsv\""
      ],
      "execution_count": null,
      "outputs": []
    },
    {
      "cell_type": "code",
      "metadata": {
        "id": "Qb9tCg7gkNcg",
        "outputId": "0842e5c5-2da3-42a4-c2c2-a40cd7aabc49",
        "colab": {
          "base_uri": "https://localhost:8080/",
          "height": 87
        }
      },
      "source": [
        "print(f\"Python version: {sys.version}\")\n",
        "os.chdir(WORKING_DIR)\n",
        "print(f\"Current working dir: {os.getcwd()}\")\n",
        "\n",
        "vowels = {'a', 'e', 'u', 'i', 'o'}"
      ],
      "execution_count": null,
      "outputs": [
        {
          "output_type": "stream",
          "text": [
            "Python version: 3.6.9 (default, Jul 17 2020, 12:50:27) \n",
            "[GCC 8.4.0]\n",
            "Current working dir: /content/gdrive/.shortcut-targets-by-id/1iK3ZTloYGsrShqJrSqmk2hprsg8miPqM/2020 - 2021 1 Shared Task Information Science/Assignment 2 - System baseline\n"
          ],
          "name": "stdout"
        }
      ]
    },
    {
      "cell_type": "markdown",
      "metadata": {
        "id": "mBO2HMDxoQ-T"
      },
      "source": [
        "# Hoe ziet de data eruit?\n",
        "\n",
        "We zijn benieuwd naar hoe de data verdeeld is en of er grote verschillen in sentiment zitten tussen de verschillende genres.\n",
        "\n",
        "## Voorbereidingen voor analyse\n",
        "\n",
        "Voordat we in de data kunnen duiken, moeten we wat voorbereidingen treffen. We lezen de bestanden uit en plaatsen de data in dictionaries."
      ]
    },
    {
      "cell_type": "code",
      "metadata": {
        "id": "qxV7sOzRoh8U"
      },
      "source": [
        "multi_trial_data = pd.read_csv(f\"data/{MULTI_TRIAL_FILE_NAME}\", delimiter='\\t',\n",
        "                               header=0, names=['id', 'subcorpus', 'sentence',\n",
        "                                                'token', 'complexity'], \n",
        "                               quoting=csv.QUOTE_NONE, encoding='utf-8')\n",
        "\n",
        "single_trial_data = pd.read_csv(f\"data/{SINGLE_TRIAL_FILE_NAME}\", delimiter='\\t',\n",
        "                               header=0, names=['id', 'subcorpus', 'sentence',\n",
        "                                                'token', 'complexity'], \n",
        "                               quoting=csv.QUOTE_NONE, encoding='utf-8')"
      ],
      "execution_count": null,
      "outputs": []
    },
    {
      "cell_type": "code",
      "metadata": {
        "id": "J6GIFNBCi_4j",
        "outputId": "fcf75715-3ecd-405a-def6-194c50842ed7",
        "colab": {
          "base_uri": "https://localhost:8080/",
          "height": 168
        }
      },
      "source": [
        "#Print lengte en voorbeeld single trail data\n",
        "print(len(single_trial_data))\n",
        "print(single_trial_data.head()) "
      ],
      "execution_count": null,
      "outputs": [
        {
          "output_type": "stream",
          "text": [
            "421\n",
            "                               id subcorpus  ... token complexity\n",
            "0  3QI9WAYOGQB8GQIR4MDIEF0D2RLS67     bible  ...   sea   0.000000\n",
            "1  3T8DUCXY0N6WD9X4RTLK8UN1U929TF     bible  ...   sea   0.102941\n",
            "2  3I7KR83SNADXAQ7HXK7S7305BYB9KD     bible  ...   sea   0.109375\n",
            "3  3BO3NEOQM0HK9ERYPN0GQIWCPC4IAQ     bible  ...   sea   0.160714\n",
            "4  3Y3CZJSZ9KT0W7I0KE38WZHHKSW5RH     bible  ...  land   0.000000\n",
            "\n",
            "[5 rows x 5 columns]\n"
          ],
          "name": "stdout"
        }
      ]
    },
    {
      "cell_type": "code",
      "metadata": {
        "id": "4nymdtaslToa",
        "outputId": "a777082a-951a-48b3-9150-c3f59ea93fa4",
        "colab": {
          "base_uri": "https://localhost:8080/",
          "height": 168
        }
      },
      "source": [
        "#Print lengte en voorbeeld multi trail data\n",
        "print(len(multi_trial_data))\n",
        "print(multi_trial_data.head())"
      ],
      "execution_count": null,
      "outputs": [
        {
          "output_type": "stream",
          "text": [
            "99\n",
            "                               id subcorpus  ...          token complexity\n",
            "0  31HLTCK4BLVQ5BO1AUR91TX9V9IVGH     bible  ...   foreign land   0.000000\n",
            "1  389A2A304OIXVY7G5B71Q9M43LE0CL     bible  ...    wheat flour   0.157895\n",
            "2  31N9JPQXIPIRX2A3S9N0CCFXO6TNHR     bible  ...  burnt incense   0.200000\n",
            "3  3JVP4ZJHDPSO81TGXL3N1CKZGQY0IN     bible  ...  burnt incense   0.250000\n",
            "4  3JAOYN9IHL25ZQAUV5EJZ4GH0KL33L     bible  ...   bronze altar   0.214286\n",
            "\n",
            "[5 rows x 5 columns]\n"
          ],
          "name": "stdout"
        }
      ]
    },
    {
      "cell_type": "code",
      "metadata": {
        "id": "u3D8jH1yjwOZ"
      },
      "source": [
        ""
      ],
      "execution_count": null,
      "outputs": []
    },
    {
      "cell_type": "code",
      "metadata": {
        "id": "skHBdWx8eKFy"
      },
      "source": [
        "def df_to_dict(dataframe):\n",
        "    \"\"\"\n",
        "    Transforms a given dataframe into a Python dictionary.\n",
        "    :returns: two-dimensional dictionary with subcorpus\n",
        "              and sentence ID as keys, and a dictionary\n",
        "              containing sentence, token and complexity\n",
        "              as value\n",
        "    \"\"\"\n",
        "    sentences = defaultdict(dict)\n",
        "    for index, row in dataframe.iterrows():\n",
        "        sentences[row['subcorpus']][row['id']] = {\n",
        "            'sentence': row['sentence'], 'token': row['token'],\n",
        "            'complexity': row['complexity']}\n",
        "    return sentences\n",
        "\n",
        "\n",
        "def get_sentence_lengths(dataset):\n",
        "    \"\"\"\n",
        "    Extracts gross and net lengths of sentences per subcorpus.\n",
        "    :returns: \n",
        "    \"\"\"\n",
        "    net_sentence_lengths, gross_sentence_lengths = {}, {}\n",
        "    for subcorpus, value in dataset.items():\n",
        "        gross_lengths, net_lengths = [], []\n",
        "        for i, row in value.items():\n",
        "            gross_lengths.append(len(row['sentence']))\n",
        "            net_lengths.append(len(row['sentence'].replace(\" \", \"\")))\n",
        "\n",
        "        gross_sentence_lengths[subcorpus] = gross_lengths\n",
        "        net_sentence_lengths[subcorpus] = net_lengths\n",
        "    \n",
        "    return net_sentence_lengths, gross_sentence_lengths"
      ],
      "execution_count": null,
      "outputs": []
    },
    {
      "cell_type": "code",
      "metadata": {
        "id": "6uB6n0aIEKZn"
      },
      "source": [
        ""
      ],
      "execution_count": null,
      "outputs": []
    },
    {
      "cell_type": "markdown",
      "metadata": {
        "id": "kzWbGpEwgCA5"
      },
      "source": [
        "## Multi trial data\n",
        "\n",
        "Multi trial data hoort bij de subtaak waar meerdere tokens van toepassing zijn."
      ]
    },
    {
      "cell_type": "code",
      "metadata": {
        "id": "bQE_1UTndcIW",
        "outputId": "83004a99-3e3a-4e10-d108-f9405383830e",
        "colab": {
          "base_uri": "https://localhost:8080/",
          "height": 67
        }
      },
      "source": [
        "mtd = df_to_dict(multi_trial_data)\n",
        "mtd_net_lengths, mtd_gross_lengths = get_sentence_lengths(mtd)\n",
        "labels = mtd_gross_lengths.keys() # get labels for visualisation\n",
        "\n",
        "for subcorpus, lengths in mtd_net_lengths.items():\n",
        "    print(subcorpus, sum(lengths) / len(lengths))\n",
        "# print(mtd_gross_lengths)"
      ],
      "execution_count": null,
      "outputs": [
        {
          "output_type": "stream",
          "text": [
            "bible 101.6896551724138\n",
            "biomed 168.8181818181818\n",
            "europarl 176.86486486486487\n"
          ],
          "name": "stdout"
        }
      ]
    },
    {
      "cell_type": "code",
      "metadata": {
        "id": "0YT0W2nJoba3",
        "outputId": "c949eca2-6994-48b3-ecd1-37d0571bf13b",
        "colab": {
          "base_uri": "https://localhost:8080/",
          "height": 390
        }
      },
      "source": [
        "net_sums = [sum(x) for x in mtd_net_lengths.values()]\n",
        "gross_sums = [sum(x) for x in mtd_gross_lengths.values()]\n",
        "\n",
        "net_means = [sum(x)/len(x) for x in mtd_net_lengths.values()]\n",
        "gross_means = [sum(x)/len(x) for x in mtd_gross_lengths.values()]\n",
        "\n",
        "fig, (ax1, ax2) = plt.subplots(1, 2)\n",
        "X = np.arange(len(labels))\n",
        "\n",
        "ax1 = fig.add_axes([0, 0, 1, 1])\n",
        "ax1.bar(X, net_sums, color = 'b', width = 0.25, label='Net')\n",
        "ax1.bar(X + 0.25, gross_sums, color = 'g', width = 0.25, label=\"Gross\")\n",
        "\n",
        "ax1.set_xlabel('Subcorpus')\n",
        "ax1.set_ylabel('Amount of characters')\n",
        "ax1.set_title('Total character lengths of sentences in SemEval 2021 T1 multi trial data')\n",
        "ax1.set_xticks(X)\n",
        "ax1.set_xticklabels(labels)\n",
        "ax1.legend()\n",
        "ax1.plot()\n",
        "\n",
        "ax2 = fig.add_axes([1.5, 0, 1, 1])\n",
        "ax2.bar(X, net_means, color = 'b', width = 0.25, label='Net')\n",
        "ax2.bar(X + 0.25, gross_means, color = 'g', width = 0.25, label=\"Gross\")\n",
        "ax2.margins(0.1, 0.1)\n",
        "\n",
        "ax2.set_xlabel('Subcorpus')\n",
        "ax2.set_ylabel('Amount of characters')\n",
        "ax2.set_title('Average character lengths of sentences in SemEval 2021 T1 multi trial data')\n",
        "ax2.set_xticks(X)\n",
        "ax2.set_xticklabels(labels)\n",
        "ax2.legend()\n",
        "ax2.plot()\n",
        "\n",
        "fig.tight_layout()\n",
        "plt.show()"
      ],
      "execution_count": null,
      "outputs": [
        {
          "output_type": "stream",
          "text": [
            "/usr/local/lib/python3.6/dist-packages/ipykernel_launcher.py:35: UserWarning: This figure includes Axes that are not compatible with tight_layout, so results might be incorrect.\n"
          ],
          "name": "stderr"
        },
        {
          "output_type": "display_data",
          "data": {
            "image/png": "[encoded data removed]",
            "text/plain": [
              "<Figure size 432x288 with 4 Axes>"
            ]
          },
          "metadata": {
            "tags": [],
            "needs_background": "light"
          }
        }
      ]
    },
    {
      "cell_type": "markdown",
      "metadata": {
        "id": "RcrqmKoaPdT0"
      },
      "source": [
        "We kunnen observeren dat teksten uit **bible** gemiddeld genomen de kortste zinnen hebben ($\\overline{SL}_{bible}=12$, gevolgd door **biomed** "
      ]
    },
    {
      "cell_type": "code",
      "metadata": {
        "id": "_GiSHZV8mC-5",
        "outputId": "38723f24-a4c7-4678-e296-cd2307ec8e43",
        "colab": {
          "base_uri": "https://localhost:8080/",
          "height": 101
        }
      },
      "source": [
        "# Add column with likert scale\n",
        "def likert_scale(value):\n",
        "    if value < 0.25:\n",
        "        return 1\n",
        "    elif value >= 0.25 and value < 0.5:\n",
        "        return 2\n",
        "    elif value >= 0.5 and value < 0.75:\n",
        "        return 3\n",
        "    elif value >= 0.75 and value < 1:\n",
        "        return 4\n",
        "    else:\n",
        "        return 5\n",
        "\n",
        "multi_trial_data[\"likert\"] = multi_trial_data[\"complexity\"].apply(likert_scale)\n",
        "multi_trial_data[\"likert\"].value_counts().sort_index()"
      ],
      "execution_count": null,
      "outputs": [
        {
          "output_type": "execute_result",
          "data": {
            "text/plain": [
              "1    11\n",
              "2    58\n",
              "3    28\n",
              "4     2\n",
              "Name: likert, dtype: int64"
            ]
          },
          "metadata": {
            "tags": []
          },
          "execution_count": 12
        }
      ]
    },
    {
      "cell_type": "code",
      "metadata": {
        "id": "mhxYDuyWmR--",
        "outputId": "917e2071-b6b4-41df-e316-78a01f82a9b4",
        "colab": {
          "base_uri": "https://localhost:8080/",
          "height": 118
        }
      },
      "source": [
        "# Checking\n",
        "print(multi_trial_data[multi_trial_data[\"complexity\"] < 0.25].shape[0])\n",
        "print(multi_trial_data[(multi_trial_data[\"complexity\"] >= 0.25) & (multi_trial_data[\"complexity\"] < 0.5)].shape[0])\n",
        "print(multi_trial_data[(single_trial_data[\"complexity\"] >= 0.5) & (multi_trial_data[\"complexity\"] < 0.75)].shape[0])\n",
        "print(multi_trial_data[(multi_trial_data[\"complexity\"] >= 0.75) & (multi_trial_data[\"complexity\"] <= 1)].shape[0])"
      ],
      "execution_count": null,
      "outputs": [
        {
          "output_type": "stream",
          "text": [
            "11\n",
            "58\n",
            "0\n",
            "2\n"
          ],
          "name": "stdout"
        },
        {
          "output_type": "stream",
          "text": [
            "/usr/local/lib/python3.6/dist-packages/ipykernel_launcher.py:4: UserWarning: Boolean Series key will be reindexed to match DataFrame index.\n",
            "  after removing the cwd from sys.path.\n"
          ],
          "name": "stderr"
        }
      ]
    },
    {
      "cell_type": "code",
      "metadata": {
        "id": "jQ_ORidTmqBJ",
        "outputId": "729ecc3e-26c4-4097-de67-6f855c66ecb6",
        "colab": {
          "base_uri": "https://localhost:8080/",
          "height": 618
        }
      },
      "source": [
        "#Sentence\n",
        "multi_trial_data[\"sentence_length\"] = multi_trial_data[\"sentence\"].str.len()\n",
        "multi_trial_data[\"s_word_count\"] = multi_trial_data[\"sentence\"].str.split().str.len()\n",
        "multi_trial_data[\"s_avg_word_length\"] = round(multi_trial_data[\"sentence_length\"] / multi_trial_data[\"s_word_count\"]).astype(int)\n",
        "multi_trial_data[\"s_vowel_count\"] = multi_trial_data[\"sentence\"].str.lower().str.count(r'[aeiou]')\n",
        "\n",
        "\n",
        "#Token\n",
        "multi_trial_data[\"t_length\"] = multi_trial_data[\"token\"].str.len()\n",
        "multi_trial_data[\"t_vowel_count\"] = multi_trial_data[\"token\"].str.lower().str.count(r'[aeiou]')\n",
        "multi_trial_data.head()"
      ],
      "execution_count": null,
      "outputs": [
        {
          "output_type": "execute_result",
          "data": {
            "text/html": [
              "<div>\n",
              "<style scoped>\n",
              "    .dataframe tbody tr th:only-of-type {\n",
              "        vertical-align: middle;\n",
              "    }\n",
              "\n",
              "    .dataframe tbody tr th {\n",
              "        vertical-align: top;\n",
              "    }\n",
              "\n",
              "    .dataframe thead th {\n",
              "        text-align: right;\n",
              "    }\n",
              "</style>\n",
              "<table border=\"1\" class=\"dataframe\">\n",
              "  <thead>\n",
              "    <tr style=\"text-align: right;\">\n",
              "      <th></th>\n",
              "      <th>id</th>\n",
              "      <th>subcorpus</th>\n",
              "      <th>sentence</th>\n",
              "      <th>token</th>\n",
              "      <th>complexity</th>\n",
              "      <th>likert</th>\n",
              "      <th>sentence_length</th>\n",
              "      <th>s_word_count</th>\n",
              "      <th>s_avg_word_length</th>\n",
              "      <th>s_vowel_count</th>\n",
              "      <th>t_length</th>\n",
              "      <th>t_vowel_count</th>\n",
              "    </tr>\n",
              "  </thead>\n",
              "  <tbody>\n",
              "    <tr>\n",
              "      <th>0</th>\n",
              "      <td>31HLTCK4BLVQ5BO1AUR91TX9V9IVGH</td>\n",
              "      <td>bible</td>\n",
              "      <td>The name of one son was Gershom, for Moses sai...</td>\n",
              "      <td>foreign land</td>\n",
              "      <td>0.000000</td>\n",
              "      <td>1</td>\n",
              "      <td>97</td>\n",
              "      <td>20</td>\n",
              "      <td>5</td>\n",
              "      <td>32</td>\n",
              "      <td>12</td>\n",
              "      <td>4</td>\n",
              "    </tr>\n",
              "    <tr>\n",
              "      <th>1</th>\n",
              "      <td>389A2A304OIXVY7G5B71Q9M43LE0CL</td>\n",
              "      <td>bible</td>\n",
              "      <td>unleavened bread, unleavened cakes mixed with ...</td>\n",
              "      <td>wheat flour</td>\n",
              "      <td>0.157895</td>\n",
              "      <td>1</td>\n",
              "      <td>132</td>\n",
              "      <td>21</td>\n",
              "      <td>6</td>\n",
              "      <td>47</td>\n",
              "      <td>11</td>\n",
              "      <td>4</td>\n",
              "    </tr>\n",
              "    <tr>\n",
              "      <th>2</th>\n",
              "      <td>31N9JPQXIPIRX2A3S9N0CCFXO6TNHR</td>\n",
              "      <td>bible</td>\n",
              "      <td>However the high places were not taken away; t...</td>\n",
              "      <td>burnt incense</td>\n",
              "      <td>0.200000</td>\n",
              "      <td>1</td>\n",
              "      <td>110</td>\n",
              "      <td>19</td>\n",
              "      <td>6</td>\n",
              "      <td>33</td>\n",
              "      <td>13</td>\n",
              "      <td>4</td>\n",
              "    </tr>\n",
              "    <tr>\n",
              "      <th>3</th>\n",
              "      <td>3JVP4ZJHDPSO81TGXL3N1CKZGQY0IN</td>\n",
              "      <td>bible</td>\n",
              "      <td>and he burnt incense of sweet spices on it, as...</td>\n",
              "      <td>burnt incense</td>\n",
              "      <td>0.250000</td>\n",
              "      <td>2</td>\n",
              "      <td>70</td>\n",
              "      <td>13</td>\n",
              "      <td>5</td>\n",
              "      <td>21</td>\n",
              "      <td>13</td>\n",
              "      <td>4</td>\n",
              "    </tr>\n",
              "    <tr>\n",
              "      <th>4</th>\n",
              "      <td>3JAOYN9IHL25ZQAUV5EJZ4GH0KL33L</td>\n",
              "      <td>bible</td>\n",
              "      <td>The same day the king made the middle of the c...</td>\n",
              "      <td>bronze altar</td>\n",
              "      <td>0.214286</td>\n",
              "      <td>1</td>\n",
              "      <td>345</td>\n",
              "      <td>64</td>\n",
              "      <td>5</td>\n",
              "      <td>107</td>\n",
              "      <td>12</td>\n",
              "      <td>4</td>\n",
              "    </tr>\n",
              "  </tbody>\n",
              "</table>\n",
              "</div>"
            ],
            "text/plain": [
              "                               id subcorpus  ... t_length t_vowel_count\n",
              "0  31HLTCK4BLVQ5BO1AUR91TX9V9IVGH     bible  ...       12             4\n",
              "1  389A2A304OIXVY7G5B71Q9M43LE0CL     bible  ...       11             4\n",
              "2  31N9JPQXIPIRX2A3S9N0CCFXO6TNHR     bible  ...       13             4\n",
              "3  3JVP4ZJHDPSO81TGXL3N1CKZGQY0IN     bible  ...       13             4\n",
              "4  3JAOYN9IHL25ZQAUV5EJZ4GH0KL33L     bible  ...       12             4\n",
              "\n",
              "[5 rows x 12 columns]"
            ]
          },
          "metadata": {
            "tags": []
          },
          "execution_count": 14
        }
      ]
    },
    {
      "cell_type": "code",
      "metadata": {
        "id": "QjxOTnnxneEg",
        "outputId": "796117ff-270e-4dd0-9ed5-3b08c1d51978",
        "colab": {
          "base_uri": "https://localhost:8080/",
          "height": 284
        }
      },
      "source": [
        "multi_trial_data.corr(method=\"pearson\")"
      ],
      "execution_count": null,
      "outputs": [
        {
          "output_type": "execute_result",
          "data": {
            "text/html": [
              "<div>\n",
              "<style scoped>\n",
              "    .dataframe tbody tr th:only-of-type {\n",
              "        vertical-align: middle;\n",
              "    }\n",
              "\n",
              "    .dataframe tbody tr th {\n",
              "        vertical-align: top;\n",
              "    }\n",
              "\n",
              "    .dataframe thead th {\n",
              "        text-align: right;\n",
              "    }\n",
              "</style>\n",
              "<table border=\"1\" class=\"dataframe\">\n",
              "  <thead>\n",
              "    <tr style=\"text-align: right;\">\n",
              "      <th></th>\n",
              "      <th>complexity</th>\n",
              "      <th>likert</th>\n",
              "      <th>sentence_length</th>\n",
              "      <th>s_word_count</th>\n",
              "      <th>s_avg_word_length</th>\n",
              "      <th>s_vowel_count</th>\n",
              "      <th>t_length</th>\n",
              "      <th>t_vowel_count</th>\n",
              "    </tr>\n",
              "  </thead>\n",
              "  <tbody>\n",
              "    <tr>\n",
              "      <th>complexity</th>\n",
              "      <td>1.000000</td>\n",
              "      <td>0.889350</td>\n",
              "      <td>0.082057</td>\n",
              "      <td>0.015194</td>\n",
              "      <td>0.291902</td>\n",
              "      <td>0.072256</td>\n",
              "      <td>0.482236</td>\n",
              "      <td>0.454082</td>\n",
              "    </tr>\n",
              "    <tr>\n",
              "      <th>likert</th>\n",
              "      <td>0.889350</td>\n",
              "      <td>1.000000</td>\n",
              "      <td>0.028910</td>\n",
              "      <td>-0.033182</td>\n",
              "      <td>0.230288</td>\n",
              "      <td>0.012060</td>\n",
              "      <td>0.421145</td>\n",
              "      <td>0.363757</td>\n",
              "    </tr>\n",
              "    <tr>\n",
              "      <th>sentence_length</th>\n",
              "      <td>0.082057</td>\n",
              "      <td>0.028910</td>\n",
              "      <td>1.000000</td>\n",
              "      <td>0.974917</td>\n",
              "      <td>0.319007</td>\n",
              "      <td>0.990793</td>\n",
              "      <td>0.378475</td>\n",
              "      <td>0.415989</td>\n",
              "    </tr>\n",
              "    <tr>\n",
              "      <th>s_word_count</th>\n",
              "      <td>0.015194</td>\n",
              "      <td>-0.033182</td>\n",
              "      <td>0.974917</td>\n",
              "      <td>1.000000</td>\n",
              "      <td>0.143276</td>\n",
              "      <td>0.960861</td>\n",
              "      <td>0.273230</td>\n",
              "      <td>0.323457</td>\n",
              "    </tr>\n",
              "    <tr>\n",
              "      <th>s_avg_word_length</th>\n",
              "      <td>0.291902</td>\n",
              "      <td>0.230288</td>\n",
              "      <td>0.319007</td>\n",
              "      <td>0.143276</td>\n",
              "      <td>1.000000</td>\n",
              "      <td>0.347668</td>\n",
              "      <td>0.532112</td>\n",
              "      <td>0.532294</td>\n",
              "    </tr>\n",
              "    <tr>\n",
              "      <th>s_vowel_count</th>\n",
              "      <td>0.072256</td>\n",
              "      <td>0.012060</td>\n",
              "      <td>0.990793</td>\n",
              "      <td>0.960861</td>\n",
              "      <td>0.347668</td>\n",
              "      <td>1.000000</td>\n",
              "      <td>0.376938</td>\n",
              "      <td>0.443260</td>\n",
              "    </tr>\n",
              "    <tr>\n",
              "      <th>t_length</th>\n",
              "      <td>0.482236</td>\n",
              "      <td>0.421145</td>\n",
              "      <td>0.378475</td>\n",
              "      <td>0.273230</td>\n",
              "      <td>0.532112</td>\n",
              "      <td>0.376938</td>\n",
              "      <td>1.000000</td>\n",
              "      <td>0.867517</td>\n",
              "    </tr>\n",
              "    <tr>\n",
              "      <th>t_vowel_count</th>\n",
              "      <td>0.454082</td>\n",
              "      <td>0.363757</td>\n",
              "      <td>0.415989</td>\n",
              "      <td>0.323457</td>\n",
              "      <td>0.532294</td>\n",
              "      <td>0.443260</td>\n",
              "      <td>0.867517</td>\n",
              "      <td>1.000000</td>\n",
              "    </tr>\n",
              "  </tbody>\n",
              "</table>\n",
              "</div>"
            ],
            "text/plain": [
              "                   complexity    likert  ...  t_length  t_vowel_count\n",
              "complexity           1.000000  0.889350  ...  0.482236       0.454082\n",
              "likert               0.889350  1.000000  ...  0.421145       0.363757\n",
              "sentence_length      0.082057  0.028910  ...  0.378475       0.415989\n",
              "s_word_count         0.015194 -0.033182  ...  0.273230       0.323457\n",
              "s_avg_word_length    0.291902  0.230288  ...  0.532112       0.532294\n",
              "s_vowel_count        0.072256  0.012060  ...  0.376938       0.443260\n",
              "t_length             0.482236  0.421145  ...  1.000000       0.867517\n",
              "t_vowel_count        0.454082  0.363757  ...  0.867517       1.000000\n",
              "\n",
              "[8 rows x 8 columns]"
            ]
          },
          "metadata": {
            "tags": []
          },
          "execution_count": 15
        }
      ]
    },
    {
      "cell_type": "markdown",
      "metadata": {
        "id": "Hwh5Z8RhoAZV"
      },
      "source": [
        "Zwakke positieve correlatie tussen complexity en gemiddelde woordlengte per zin,  zwakke/gemiddelde positieve correlatie tussen complexity en token lengte en complexity en hoeveelheid klinkers in token."
      ]
    },
    {
      "cell_type": "code",
      "metadata": {
        "id": "Jetz-2vSwqBC"
      },
      "source": [
        "le = preprocessing.LabelEncoder()\n",
        "multi_trial_data[\"subcorpus\"] = le.fit_transform(multi_trial_data[\"subcorpus\"])"
      ],
      "execution_count": null,
      "outputs": []
    },
    {
      "cell_type": "code",
      "metadata": {
        "id": "o4If8bInrscQ",
        "outputId": "19565db2-e3ed-4f17-cfe9-7e27cc1331ef",
        "colab": {
          "base_uri": "https://localhost:8080/",
          "height": 34
        }
      },
      "source": [
        "#Try out linear reg model on all features of the multi trail and predict complexity \n",
        "pd_x = multi_trial_data[['sentence_length', 's_word_count', 's_avg_word_length', 's_vowel_count', 't_length', 't_vowel_count']]\n",
        "pd_y = multi_trial_data['complexity']\n",
        "\n",
        "reg_model = linear_model.LinearRegression()\n",
        "\n",
        "train_x, test_x, train_y, test_y = train_test_split(pd_x, pd_y, test_size=0.2, random_state=3)\n",
        "\n",
        "reg_model.fit(train_x, train_y)\n",
        "\n",
        "reg_model.coef_\n",
        "\n",
        "pred_y = reg_model.predict(test_x)\n",
        "\n",
        "mean_squared_error(test_y, pred_y)"
      ],
      "execution_count": null,
      "outputs": [
        {
          "output_type": "execute_result",
          "data": {
            "text/plain": [
              "0.012787187278166212"
            ]
          },
          "metadata": {
            "tags": []
          },
          "execution_count": 39
        }
      ]
    },
    {
      "cell_type": "code",
      "metadata": {
        "id": "qTy46Z32qKj7",
        "outputId": "b0abae3f-2668-466f-9f6a-d3444ddc2e0e",
        "colab": {
          "base_uri": "https://localhost:8080/",
          "height": 34
        }
      },
      "source": [
        "#Try out linear reg model on all features of the multi trail and predict likert \n",
        "pd_x = multi_trial_data[['sentence_length', 's_word_count', 's_avg_word_length', 's_vowel_count', 't_length', 't_vowel_count']]\n",
        "pd_y = multi_trial_data['likert']\n",
        "\n",
        "reg_model = linear_model.LinearRegression()\n",
        "\n",
        "train_x, test_x, train_y, test_y = train_test_split(pd_x, pd_y, test_size=0.2, random_state=3)\n",
        "\n",
        "reg_model.fit(train_x, train_y)\n",
        "\n",
        "reg_model.coef_\n",
        "\n",
        "pred_y = reg_model.predict(test_x)\n",
        "pred_y = pred_y.round(0) #wel of niet afronden? \n",
        "mean_squared_error(test_y, pred_y)"
      ],
      "execution_count": null,
      "outputs": [
        {
          "output_type": "execute_result",
          "data": {
            "text/plain": [
              "0.65"
            ]
          },
          "metadata": {
            "tags": []
          },
          "execution_count": 18
        }
      ]
    },
    {
      "cell_type": "code",
      "metadata": {
        "id": "SVebvwqjsBI5",
        "outputId": "488b769a-a70b-4288-b26e-9fc8b43f3aa5",
        "colab": {
          "base_uri": "https://localhost:8080/",
          "height": 34
        }
      },
      "source": [
        "#Try linear svm on all features of multi trial and predict likert\n",
        "X = multi_trial_data[['sentence_length', 's_word_count', 's_avg_word_length', 's_vowel_count', 't_length', 't_vowel_count']]\n",
        "y = multi_trial_data['likert']\n",
        "scaler = MinMaxScaler(feature_range=(0, 1))\n",
        "X = scaler.fit_transform(X)\n",
        "scores = []\n",
        "best_svm = svm.LinearSVC()\n",
        "cv = KFold(n_splits=10, shuffle=False)\n",
        "for train_index, test_index in cv.split(X):\n",
        "    X_train, X_test, y_train, y_test = X[train_index], X[test_index], y[train_index], y[test_index]\n",
        "    best_svm.fit(X_train, y_train)\n",
        "    scores.append(best_svm.score(X_test, y_test))\n",
        "print(sum(scores) / len(scores))\n"
      ],
      "execution_count": null,
      "outputs": [
        {
          "output_type": "stream",
          "text": [
            "0.5233333333333333\n"
          ],
          "name": "stdout"
        }
      ]
    },
    {
      "cell_type": "code",
      "metadata": {
        "id": "3ZfdOSOw5O6D",
        "outputId": "98dde1c2-2caa-4142-8cdc-fd405f1bd007",
        "colab": {
          "base_uri": "https://localhost:8080/",
          "height": 34
        }
      },
      "source": [
        "#Try multinomial NB\n",
        "X = multi_trial_data[['sentence_length', 's_word_count', 's_avg_word_length', 's_vowel_count', 't_length', 't_vowel_count']]\n",
        "y = multi_trial_data['likert']\n",
        "scaler = MinMaxScaler(feature_range=(0, 1))\n",
        "X = scaler.fit_transform(X)\n",
        "clf = MultinomialNB()\n",
        "cv = KFold(n_splits=10, shuffle=False)\n",
        "for train_index, test_index in cv.split(X):\n",
        "    X_train, X_test, y_train, y_test = X[train_index], X[test_index], y[train_index], y[test_index]\n",
        "    clf.fit(X_train, y_train)\n",
        "    scores.append(clf.score(X_test, y_test))\n",
        "print(sum(scores) / len(scores))"
      ],
      "execution_count": null,
      "outputs": [
        {
          "output_type": "stream",
          "text": [
            "0.5527777777777777\n"
          ],
          "name": "stdout"
        }
      ]
    },
    {
      "cell_type": "markdown",
      "metadata": {
        "id": "bxXtQK-pu1Hh"
      },
      "source": [
        "## Single trial data"
      ]
    },
    {
      "cell_type": "code",
      "metadata": {
        "id": "USnCUiNRmFVu",
        "outputId": "310ff8a2-01eb-4404-ee16-a9e86b883a8c",
        "colab": {
          "base_uri": "https://localhost:8080/",
          "height": 70
        }
      },
      "source": [
        "std = df_to_dict(single_trial_data)\n",
        "std_net_lengths, std_gross_lengths = get_sentence_lengths(std)\n",
        "labels = std_gross_lengths.keys()\n",
        "\n",
        "print(std_net_lengths)\n",
        "print(std_gross_lengths)"
      ],
      "execution_count": null,
      "outputs": [
        {
          "output_type": "stream",
          "text": [
            "{'bible': [112, 219, 60, 89, 126, 96, 40, 145, 28, 145, 52, 127, 91, 177, 49, 144, 102, 109, 36, 103, 29, 115, 99, 193, 212, 137, 248, 86, 128, 189, 37, 103, 76, 73, 84, 176, 221, 110, 34, 39, 64, 92, 147, 141, 135, 158, 72, 75, 265, 123, 123, 150, 226, 126, 107, 142, 25, 235, 244, 129, 86, 61, 66, 33, 27, 126, 144, 111, 26, 173, 204, 99, 71, 122, 73, 88, 170, 90, 149, 60, 144, 78, 83, 35, 55, 152, 46, 35, 71, 75, 105, 87, 134, 73, 181, 72, 65, 92, 119, 76, 75, 190, 124, 82, 79, 46, 61, 55, 177, 107, 75, 138, 133, 127, 199, 145, 69, 71, 129, 82, 100, 207, 66, 116, 173, 153, 26, 108, 88, 78, 42, 102, 161, 45, 106, 49, 123, 187, 60, 68, 210, 77, 53], 'biomed': [106, 117, 103, 122, 105, 226, 157, 164, 195, 124, 140, 110, 237, 146, 140, 212, 124, 93, 107, 228, 60, 133, 189, 76, 115, 164, 244, 340, 124, 66, 126, 138, 319, 121, 112, 103, 310, 238, 171, 181, 59, 271, 105, 307, 132, 89, 105, 120, 144, 206, 153, 147, 178, 114, 195, 348, 250, 296, 244, 69, 147, 170, 157, 214, 268, 146, 142, 166, 274, 128, 122, 194, 129, 247, 115, 140, 84, 129, 114, 134, 109, 245, 139, 197, 90, 235, 316, 169, 176, 117, 138, 115, 47, 58, 68, 182, 232, 26, 174, 147, 87, 95, 270, 121, 210, 122, 171, 158, 201, 99, 52, 164, 213, 139, 60, 147, 145, 92, 190, 215, 75, 74, 182, 349, 58, 90, 102, 172, 247, 239, 142, 128, 133, 109, 69], 'europarl': [64, 283, 352, 332, 142, 22, 157, 159, 128, 197, 100, 135, 146, 128, 90, 34, 305, 173, 139, 84, 36, 143, 222, 134, 30, 321, 71, 165, 263, 216, 329, 114, 386, 41, 97, 53, 56, 113, 86, 101, 167, 289, 142, 53, 163, 151, 76, 380, 109, 196, 162, 77, 246, 149, 138, 103, 352, 294, 144, 98, 109, 113, 160, 127, 47, 176, 71, 91, 190, 151, 177, 137, 276, 243, 205, 53, 92, 49, 228, 54, 248, 19, 234, 169, 129, 126, 65, 197, 169, 43, 142, 123, 17, 149, 138, 106, 493, 165, 209, 353, 184, 129, 255, 235, 207, 108, 131, 122, 18, 46, 176, 66, 204, 435, 67, 227, 111, 143, 303, 135, 228, 104, 84, 26, 24, 80, 162, 154, 249, 151, 171, 361, 154, 62, 68, 91, 145, 189, 281, 346, 319, 56, 133]}\n",
            "{'bible': [139, 264, 73, 109, 159, 119, 47, 179, 33, 180, 63, 158, 109, 217, 61, 179, 124, 137, 42, 125, 33, 141, 125, 241, 260, 165, 296, 107, 162, 227, 44, 126, 94, 89, 102, 213, 270, 134, 41, 48, 76, 112, 182, 176, 165, 192, 89, 92, 337, 151, 150, 185, 283, 154, 132, 174, 29, 288, 297, 159, 105, 79, 83, 39, 32, 157, 181, 135, 32, 207, 243, 122, 90, 152, 89, 105, 212, 110, 183, 73, 178, 94, 100, 41, 67, 180, 53, 38, 88, 94, 131, 105, 168, 87, 220, 90, 76, 109, 144, 91, 92, 233, 150, 103, 94, 56, 73, 68, 214, 129, 88, 172, 164, 158, 244, 178, 83, 86, 155, 102, 122, 255, 79, 140, 207, 185, 30, 132, 108, 95, 50, 123, 191, 56, 126, 58, 149, 226, 74, 81, 258, 96, 66], 'biomed': [125, 135, 119, 144, 124, 263, 183, 190, 225, 144, 160, 129, 276, 173, 164, 245, 140, 108, 127, 261, 70, 155, 228, 87, 144, 197, 287, 402, 144, 78, 151, 162, 371, 144, 133, 119, 369, 279, 216, 210, 69, 323, 124, 349, 158, 103, 124, 143, 170, 243, 180, 171, 208, 133, 225, 405, 295, 350, 287, 83, 168, 205, 185, 254, 315, 168, 164, 198, 316, 150, 143, 225, 151, 288, 130, 162, 100, 151, 131, 158, 130, 283, 161, 233, 105, 277, 364, 203, 202, 138, 158, 130, 53, 67, 79, 209, 267, 31, 203, 171, 102, 109, 316, 144, 244, 147, 194, 187, 233, 114, 60, 193, 244, 162, 70, 176, 170, 107, 225, 250, 87, 84, 215, 403, 67, 108, 118, 195, 296, 277, 168, 153, 158, 125, 81], 'europarl': [78, 344, 423, 395, 172, 26, 185, 191, 155, 233, 119, 162, 180, 154, 108, 40, 369, 207, 170, 98, 42, 170, 262, 158, 35, 384, 88, 195, 314, 258, 394, 134, 457, 49, 111, 63, 62, 134, 101, 120, 194, 340, 171, 61, 192, 185, 91, 459, 132, 232, 193, 90, 290, 174, 164, 123, 409, 349, 170, 115, 126, 134, 187, 152, 54, 208, 80, 107, 225, 178, 209, 160, 323, 293, 246, 63, 107, 57, 267, 65, 298, 22, 283, 197, 155, 153, 75, 236, 200, 48, 166, 145, 19, 175, 166, 123, 572, 196, 243, 420, 223, 156, 307, 284, 251, 127, 157, 141, 21, 53, 211, 78, 247, 510, 79, 273, 135, 172, 360, 161, 269, 118, 100, 31, 28, 94, 191, 179, 301, 179, 203, 431, 179, 74, 80, 112, 173, 227, 338, 406, 378, 69, 160]}\n"
          ],
          "name": "stdout"
        }
      ]
    },
    {
      "cell_type": "code",
      "metadata": {
        "id": "4wVpdPwYVx22",
        "outputId": "660585a8-76d8-46b9-a3d1-df52da13877d",
        "colab": {
          "base_uri": "https://localhost:8080/",
          "height": 387
        }
      },
      "source": [
        "net_sums = [sum(x) for x in std_net_lengths.values()]\n",
        "gross_sums = [sum(x) for x in std_gross_lengths.values()]\n",
        "\n",
        "net_means = [sum(x)/len(x) for x in std_net_lengths.values()]\n",
        "gross_means = [sum(x)/len(x) for x in std_gross_lengths.values()]\n",
        "\n",
        "fig, (ax1, ax2) = plt.subplots(1, 2)\n",
        "X = np.arange(len(labels))\n",
        "\n",
        "ax1 = fig.add_axes([0, 0, 1, 1])\n",
        "ax1.bar(X, net_sums, color = 'c', width = 0.25, label='Net')\n",
        "ax1.bar(X + 0.25, gross_sums, color = 'm', width = 0.25, label=\"Gross\")\n",
        "\n",
        "ax1.set_xlabel('Subcorpus')\n",
        "ax1.set_ylabel('Amount of characters')\n",
        "ax1.set_title('Total character lengths of sentences in SemEval 2021 T1 single trial data')\n",
        "ax1.set_xticks(X)\n",
        "ax1.set_xticklabels(labels)\n",
        "ax1.legend()\n",
        "ax1.plot()\n",
        "\n",
        "ax2 = fig.add_axes([1.5, 0, 1, 1])\n",
        "ax2.bar(X, net_means, color = 'c', width = 0.25, label='Net')\n",
        "ax2.bar(X + 0.25, gross_means, color = 'm', width = 0.25, label=\"Gross\")\n",
        "ax2.margins(0.1, 0.1)\n",
        "\n",
        "ax2.set_xlabel('Subcorpus')\n",
        "ax2.set_ylabel('Amount of characters')\n",
        "ax2.set_title('Average character lengths of sentences in SemEval 2021 T1 single trial data')\n",
        "ax2.set_xticks(X)\n",
        "ax2.set_xticklabels(labels)\n",
        "ax2.legend()\n",
        "ax2.plot()\n",
        "\n",
        "fig.tight_layout()\n",
        "plt.show()"
      ],
      "execution_count": null,
      "outputs": [
        {
          "output_type": "stream",
          "text": [
            "/usr/local/lib/python3.6/dist-packages/ipykernel_launcher.py:35: UserWarning: This figure includes Axes that are not compatible with tight_layout, so results might be incorrect.\n"
          ],
          "name": "stderr"
        },
        {
          "output_type": "display_data",
          "data": {
            "image/png": "[encoded data removed]",
            "text/plain": [
              "<Figure size 432x288 with 4 Axes>"
            ]
          },
          "metadata": {
            "tags": [],
            "needs_background": "light"
          }
        }
      ]
    },
    {
      "cell_type": "code",
      "metadata": {
        "id": "gkelc6KpcV5_",
        "outputId": "915f4e15-ed12-4273-97f7-b60e05fc5476",
        "colab": {
          "base_uri": "https://localhost:8080/",
          "height": 84
        }
      },
      "source": [
        "single_trial_data[\"subcorpus\"].value_counts()"
      ],
      "execution_count": null,
      "outputs": [
        {
          "output_type": "execute_result",
          "data": {
            "text/plain": [
              "bible       143\n",
              "europarl    143\n",
              "biomed      135\n",
              "Name: subcorpus, dtype: int64"
            ]
          },
          "metadata": {
            "tags": []
          },
          "execution_count": 23
        }
      ]
    },
    {
      "cell_type": "code",
      "metadata": {
        "id": "okQucDVIcdv5",
        "outputId": "d0dd4c69-5248-4bd8-eeea-daf879d12c8c",
        "colab": {
          "base_uri": "https://localhost:8080/",
          "height": 101
        }
      },
      "source": [
        "single_trial_data[\"likert\"] = single_trial_data[\"complexity\"].apply(likert_scale)\n",
        "single_trial_data[\"likert\"].value_counts().sort_index()\n"
      ],
      "execution_count": null,
      "outputs": [
        {
          "output_type": "execute_result",
          "data": {
            "text/plain": [
              "1    160\n",
              "2    220\n",
              "3     38\n",
              "4      3\n",
              "Name: likert, dtype: int64"
            ]
          },
          "metadata": {
            "tags": []
          },
          "execution_count": 24
        }
      ]
    },
    {
      "cell_type": "code",
      "metadata": {
        "id": "kYDe74i5gcTD",
        "outputId": "0b8a3b08-6e05-42ce-baa4-048b4f51662e",
        "colab": {
          "base_uri": "https://localhost:8080/",
          "height": 84
        }
      },
      "source": [
        "# Checking\n",
        "print(single_trial_data[single_trial_data[\"complexity\"] < 0.25].shape[0])\n",
        "print(single_trial_data[(single_trial_data[\"complexity\"] >= 0.25) & (single_trial_data[\"complexity\"] < 0.5)].shape[0])\n",
        "print(single_trial_data[(single_trial_data[\"complexity\"] >= 0.5) & (single_trial_data[\"complexity\"] < 0.75)].shape[0])\n",
        "print(single_trial_data[(single_trial_data[\"complexity\"] >= 0.75) & (single_trial_data[\"complexity\"] <= 1)].shape[0])"
      ],
      "execution_count": null,
      "outputs": [
        {
          "output_type": "stream",
          "text": [
            "160\n",
            "220\n",
            "38\n",
            "3\n"
          ],
          "name": "stdout"
        }
      ]
    },
    {
      "cell_type": "code",
      "metadata": {
        "id": "Rs6G0lRgjIqj",
        "outputId": "66c87f2c-dace-47c9-973f-8a7c0984c1d1",
        "colab": {
          "base_uri": "https://localhost:8080/",
          "height": 467
        }
      },
      "source": [
        "#Sentence\n",
        "single_trial_data[\"sentence_length\"] = single_trial_data[\"sentence\"].str.len()\n",
        "single_trial_data[\"s_word_count\"] = single_trial_data[\"sentence\"].str.split().str.len()\n",
        "single_trial_data[\"s_avg_word_length\"] = round(single_trial_data[\"sentence_length\"] / single_trial_data[\"s_word_count\"]).astype(int)\n",
        "single_trial_data[\"s_vowel_count\"] = single_trial_data[\"sentence\"].str.lower().str.count(r'[aeiou]')\n",
        "\n",
        "\n",
        "#Token\n",
        "single_trial_data[\"t_length\"] = single_trial_data[\"token\"].str.len()\n",
        "single_trial_data[\"t_vowel_count\"] = single_trial_data[\"token\"].str.lower().str.count(r'[aeiou]')\n",
        "single_trial_data.head()"
      ],
      "execution_count": null,
      "outputs": [
        {
          "output_type": "execute_result",
          "data": {
            "text/html": [
              "<div>\n",
              "<style scoped>\n",
              "    .dataframe tbody tr th:only-of-type {\n",
              "        vertical-align: middle;\n",
              "    }\n",
              "\n",
              "    .dataframe tbody tr th {\n",
              "        vertical-align: top;\n",
              "    }\n",
              "\n",
              "    .dataframe thead th {\n",
              "        text-align: right;\n",
              "    }\n",
              "</style>\n",
              "<table border=\"1\" class=\"dataframe\">\n",
              "  <thead>\n",
              "    <tr style=\"text-align: right;\">\n",
              "      <th></th>\n",
              "      <th>id</th>\n",
              "      <th>subcorpus</th>\n",
              "      <th>sentence</th>\n",
              "      <th>token</th>\n",
              "      <th>complexity</th>\n",
              "      <th>likert</th>\n",
              "      <th>sentence_length</th>\n",
              "      <th>s_word_count</th>\n",
              "      <th>s_avg_word_length</th>\n",
              "      <th>s_vowel_count</th>\n",
              "      <th>t_length</th>\n",
              "      <th>t_vowel_count</th>\n",
              "    </tr>\n",
              "  </thead>\n",
              "  <tbody>\n",
              "    <tr>\n",
              "      <th>0</th>\n",
              "      <td>3QI9WAYOGQB8GQIR4MDIEF0D2RLS67</td>\n",
              "      <td>bible</td>\n",
              "      <td>They will not hurt nor destroy in all my holy ...</td>\n",
              "      <td>sea</td>\n",
              "      <td>0.000000</td>\n",
              "      <td>1</td>\n",
              "      <td>139</td>\n",
              "      <td>28</td>\n",
              "      <td>5</td>\n",
              "      <td>38</td>\n",
              "      <td>3</td>\n",
              "      <td>2</td>\n",
              "    </tr>\n",
              "    <tr>\n",
              "      <th>1</th>\n",
              "      <td>3T8DUCXY0N6WD9X4RTLK8UN1U929TF</td>\n",
              "      <td>bible</td>\n",
              "      <td>that sends ambassadors by the sea, even in ves...</td>\n",
              "      <td>sea</td>\n",
              "      <td>0.102941</td>\n",
              "      <td>1</td>\n",
              "      <td>264</td>\n",
              "      <td>46</td>\n",
              "      <td>6</td>\n",
              "      <td>80</td>\n",
              "      <td>3</td>\n",
              "      <td>2</td>\n",
              "    </tr>\n",
              "    <tr>\n",
              "      <th>2</th>\n",
              "      <td>3I7KR83SNADXAQ7HXK7S7305BYB9KD</td>\n",
              "      <td>bible</td>\n",
              "      <td>and they entered into the boat, and were going...</td>\n",
              "      <td>sea</td>\n",
              "      <td>0.109375</td>\n",
              "      <td>1</td>\n",
              "      <td>73</td>\n",
              "      <td>14</td>\n",
              "      <td>5</td>\n",
              "      <td>25</td>\n",
              "      <td>3</td>\n",
              "      <td>2</td>\n",
              "    </tr>\n",
              "    <tr>\n",
              "      <th>3</th>\n",
              "      <td>3BO3NEOQM0HK9ERYPN0GQIWCPC4IAQ</td>\n",
              "      <td>bible</td>\n",
              "      <td>Joseph laid up grain as the sand of the sea, v...</td>\n",
              "      <td>sea</td>\n",
              "      <td>0.160714</td>\n",
              "      <td>1</td>\n",
              "      <td>109</td>\n",
              "      <td>21</td>\n",
              "      <td>5</td>\n",
              "      <td>32</td>\n",
              "      <td>3</td>\n",
              "      <td>2</td>\n",
              "    </tr>\n",
              "    <tr>\n",
              "      <th>4</th>\n",
              "      <td>3Y3CZJSZ9KT0W7I0KE38WZHHKSW5RH</td>\n",
              "      <td>bible</td>\n",
              "      <td>There will be a highway for the remnant that i...</td>\n",
              "      <td>land</td>\n",
              "      <td>0.000000</td>\n",
              "      <td>1</td>\n",
              "      <td>159</td>\n",
              "      <td>34</td>\n",
              "      <td>5</td>\n",
              "      <td>47</td>\n",
              "      <td>4</td>\n",
              "      <td>1</td>\n",
              "    </tr>\n",
              "  </tbody>\n",
              "</table>\n",
              "</div>"
            ],
            "text/plain": [
              "                               id subcorpus  ... t_length t_vowel_count\n",
              "0  3QI9WAYOGQB8GQIR4MDIEF0D2RLS67     bible  ...        3             2\n",
              "1  3T8DUCXY0N6WD9X4RTLK8UN1U929TF     bible  ...        3             2\n",
              "2  3I7KR83SNADXAQ7HXK7S7305BYB9KD     bible  ...        3             2\n",
              "3  3BO3NEOQM0HK9ERYPN0GQIWCPC4IAQ     bible  ...        3             2\n",
              "4  3Y3CZJSZ9KT0W7I0KE38WZHHKSW5RH     bible  ...        4             1\n",
              "\n",
              "[5 rows x 12 columns]"
            ]
          },
          "metadata": {
            "tags": []
          },
          "execution_count": 26
        }
      ]
    },
    {
      "cell_type": "code",
      "metadata": {
        "id": "-OjWHxdetKBF",
        "outputId": "d96754a3-08e5-4b4c-c51f-8ad4698c980f",
        "colab": {
          "base_uri": "https://localhost:8080/",
          "height": 284
        }
      },
      "source": [
        "single_trial_data.corr(method=\"pearson\")"
      ],
      "execution_count": null,
      "outputs": [
        {
          "output_type": "execute_result",
          "data": {
            "text/html": [
              "<div>\n",
              "<style scoped>\n",
              "    .dataframe tbody tr th:only-of-type {\n",
              "        vertical-align: middle;\n",
              "    }\n",
              "\n",
              "    .dataframe tbody tr th {\n",
              "        vertical-align: top;\n",
              "    }\n",
              "\n",
              "    .dataframe thead th {\n",
              "        text-align: right;\n",
              "    }\n",
              "</style>\n",
              "<table border=\"1\" class=\"dataframe\">\n",
              "  <thead>\n",
              "    <tr style=\"text-align: right;\">\n",
              "      <th></th>\n",
              "      <th>complexity</th>\n",
              "      <th>likert</th>\n",
              "      <th>sentence_length</th>\n",
              "      <th>s_word_count</th>\n",
              "      <th>s_avg_word_length</th>\n",
              "      <th>s_vowel_count</th>\n",
              "      <th>t_length</th>\n",
              "      <th>t_vowel_count</th>\n",
              "    </tr>\n",
              "  </thead>\n",
              "  <tbody>\n",
              "    <tr>\n",
              "      <th>complexity</th>\n",
              "      <td>1.000000</td>\n",
              "      <td>0.871291</td>\n",
              "      <td>0.046533</td>\n",
              "      <td>-0.013009</td>\n",
              "      <td>0.237467</td>\n",
              "      <td>0.050830</td>\n",
              "      <td>0.158950</td>\n",
              "      <td>0.220490</td>\n",
              "    </tr>\n",
              "    <tr>\n",
              "      <th>likert</th>\n",
              "      <td>0.871291</td>\n",
              "      <td>1.000000</td>\n",
              "      <td>0.046709</td>\n",
              "      <td>-0.007867</td>\n",
              "      <td>0.211369</td>\n",
              "      <td>0.051339</td>\n",
              "      <td>0.169852</td>\n",
              "      <td>0.192755</td>\n",
              "    </tr>\n",
              "    <tr>\n",
              "      <th>sentence_length</th>\n",
              "      <td>0.046533</td>\n",
              "      <td>0.046709</td>\n",
              "      <td>1.000000</td>\n",
              "      <td>0.969650</td>\n",
              "      <td>0.166801</td>\n",
              "      <td>0.989930</td>\n",
              "      <td>0.106650</td>\n",
              "      <td>0.125835</td>\n",
              "    </tr>\n",
              "    <tr>\n",
              "      <th>s_word_count</th>\n",
              "      <td>-0.013009</td>\n",
              "      <td>-0.007867</td>\n",
              "      <td>0.969650</td>\n",
              "      <td>1.000000</td>\n",
              "      <td>-0.029053</td>\n",
              "      <td>0.955348</td>\n",
              "      <td>0.031945</td>\n",
              "      <td>0.053323</td>\n",
              "    </tr>\n",
              "    <tr>\n",
              "      <th>s_avg_word_length</th>\n",
              "      <td>0.237467</td>\n",
              "      <td>0.211369</td>\n",
              "      <td>0.166801</td>\n",
              "      <td>-0.029053</td>\n",
              "      <td>1.000000</td>\n",
              "      <td>0.187309</td>\n",
              "      <td>0.306240</td>\n",
              "      <td>0.287880</td>\n",
              "    </tr>\n",
              "    <tr>\n",
              "      <th>s_vowel_count</th>\n",
              "      <td>0.050830</td>\n",
              "      <td>0.051339</td>\n",
              "      <td>0.989930</td>\n",
              "      <td>0.955348</td>\n",
              "      <td>0.187309</td>\n",
              "      <td>1.000000</td>\n",
              "      <td>0.127968</td>\n",
              "      <td>0.163527</td>\n",
              "    </tr>\n",
              "    <tr>\n",
              "      <th>t_length</th>\n",
              "      <td>0.158950</td>\n",
              "      <td>0.169852</td>\n",
              "      <td>0.106650</td>\n",
              "      <td>0.031945</td>\n",
              "      <td>0.306240</td>\n",
              "      <td>0.127968</td>\n",
              "      <td>1.000000</td>\n",
              "      <td>0.826178</td>\n",
              "    </tr>\n",
              "    <tr>\n",
              "      <th>t_vowel_count</th>\n",
              "      <td>0.220490</td>\n",
              "      <td>0.192755</td>\n",
              "      <td>0.125835</td>\n",
              "      <td>0.053323</td>\n",
              "      <td>0.287880</td>\n",
              "      <td>0.163527</td>\n",
              "      <td>0.826178</td>\n",
              "      <td>1.000000</td>\n",
              "    </tr>\n",
              "  </tbody>\n",
              "</table>\n",
              "</div>"
            ],
            "text/plain": [
              "                   complexity    likert  ...  t_length  t_vowel_count\n",
              "complexity           1.000000  0.871291  ...  0.158950       0.220490\n",
              "likert               0.871291  1.000000  ...  0.169852       0.192755\n",
              "sentence_length      0.046533  0.046709  ...  0.106650       0.125835\n",
              "s_word_count        -0.013009 -0.007867  ...  0.031945       0.053323\n",
              "s_avg_word_length    0.237467  0.211369  ...  0.306240       0.287880\n",
              "s_vowel_count        0.050830  0.051339  ...  0.127968       0.163527\n",
              "t_length             0.158950  0.169852  ...  1.000000       0.826178\n",
              "t_vowel_count        0.220490  0.192755  ...  0.826178       1.000000\n",
              "\n",
              "[8 rows x 8 columns]"
            ]
          },
          "metadata": {
            "tags": []
          },
          "execution_count": 27
        }
      ]
    },
    {
      "cell_type": "markdown",
      "metadata": {
        "id": "TKaZQ5ZIt-L0"
      },
      "source": [
        "Zwakke positieve correlatie tussen complexity en gemiddelde woord lengte in een zin en tussen complexity en de hoeveelheid klinkers in een woord.\n",
        "\n",
        "Erg zwakke positieve correlatie tussen complexity en woordlengte."
      ]
    },
    {
      "cell_type": "code",
      "metadata": {
        "id": "AM2v3wYZ4zp8",
        "outputId": "76f068e0-c8ff-4057-e692-ad4bc8429f31",
        "colab": {
          "base_uri": "https://localhost:8080/",
          "height": 467
        }
      },
      "source": [
        "#Convert string values to numerical for classification\n",
        "le = preprocessing.LabelEncoder()\n",
        "single_trial_data[\"subcorpus\"] = le.fit_transform(single_trial_data[\"subcorpus\"])\n",
        "single_trial_data.head()"
      ],
      "execution_count": null,
      "outputs": [
        {
          "output_type": "execute_result",
          "data": {
            "text/html": [
              "<div>\n",
              "<style scoped>\n",
              "    .dataframe tbody tr th:only-of-type {\n",
              "        vertical-align: middle;\n",
              "    }\n",
              "\n",
              "    .dataframe tbody tr th {\n",
              "        vertical-align: top;\n",
              "    }\n",
              "\n",
              "    .dataframe thead th {\n",
              "        text-align: right;\n",
              "    }\n",
              "</style>\n",
              "<table border=\"1\" class=\"dataframe\">\n",
              "  <thead>\n",
              "    <tr style=\"text-align: right;\">\n",
              "      <th></th>\n",
              "      <th>id</th>\n",
              "      <th>subcorpus</th>\n",
              "      <th>sentence</th>\n",
              "      <th>token</th>\n",
              "      <th>complexity</th>\n",
              "      <th>likert</th>\n",
              "      <th>sentence_length</th>\n",
              "      <th>s_word_count</th>\n",
              "      <th>s_avg_word_length</th>\n",
              "      <th>s_vowel_count</th>\n",
              "      <th>t_length</th>\n",
              "      <th>t_vowel_count</th>\n",
              "    </tr>\n",
              "  </thead>\n",
              "  <tbody>\n",
              "    <tr>\n",
              "      <th>0</th>\n",
              "      <td>3QI9WAYOGQB8GQIR4MDIEF0D2RLS67</td>\n",
              "      <td>0</td>\n",
              "      <td>They will not hurt nor destroy in all my holy ...</td>\n",
              "      <td>sea</td>\n",
              "      <td>0.000000</td>\n",
              "      <td>1</td>\n",
              "      <td>139</td>\n",
              "      <td>28</td>\n",
              "      <td>5</td>\n",
              "      <td>38</td>\n",
              "      <td>3</td>\n",
              "      <td>2</td>\n",
              "    </tr>\n",
              "    <tr>\n",
              "      <th>1</th>\n",
              "      <td>3T8DUCXY0N6WD9X4RTLK8UN1U929TF</td>\n",
              "      <td>0</td>\n",
              "      <td>that sends ambassadors by the sea, even in ves...</td>\n",
              "      <td>sea</td>\n",
              "      <td>0.102941</td>\n",
              "      <td>1</td>\n",
              "      <td>264</td>\n",
              "      <td>46</td>\n",
              "      <td>6</td>\n",
              "      <td>80</td>\n",
              "      <td>3</td>\n",
              "      <td>2</td>\n",
              "    </tr>\n",
              "    <tr>\n",
              "      <th>2</th>\n",
              "      <td>3I7KR83SNADXAQ7HXK7S7305BYB9KD</td>\n",
              "      <td>0</td>\n",
              "      <td>and they entered into the boat, and were going...</td>\n",
              "      <td>sea</td>\n",
              "      <td>0.109375</td>\n",
              "      <td>1</td>\n",
              "      <td>73</td>\n",
              "      <td>14</td>\n",
              "      <td>5</td>\n",
              "      <td>25</td>\n",
              "      <td>3</td>\n",
              "      <td>2</td>\n",
              "    </tr>\n",
              "    <tr>\n",
              "      <th>3</th>\n",
              "      <td>3BO3NEOQM0HK9ERYPN0GQIWCPC4IAQ</td>\n",
              "      <td>0</td>\n",
              "      <td>Joseph laid up grain as the sand of the sea, v...</td>\n",
              "      <td>sea</td>\n",
              "      <td>0.160714</td>\n",
              "      <td>1</td>\n",
              "      <td>109</td>\n",
              "      <td>21</td>\n",
              "      <td>5</td>\n",
              "      <td>32</td>\n",
              "      <td>3</td>\n",
              "      <td>2</td>\n",
              "    </tr>\n",
              "    <tr>\n",
              "      <th>4</th>\n",
              "      <td>3Y3CZJSZ9KT0W7I0KE38WZHHKSW5RH</td>\n",
              "      <td>0</td>\n",
              "      <td>There will be a highway for the remnant that i...</td>\n",
              "      <td>land</td>\n",
              "      <td>0.000000</td>\n",
              "      <td>1</td>\n",
              "      <td>159</td>\n",
              "      <td>34</td>\n",
              "      <td>5</td>\n",
              "      <td>47</td>\n",
              "      <td>4</td>\n",
              "      <td>1</td>\n",
              "    </tr>\n",
              "  </tbody>\n",
              "</table>\n",
              "</div>"
            ],
            "text/plain": [
              "                               id  subcorpus  ... t_length t_vowel_count\n",
              "0  3QI9WAYOGQB8GQIR4MDIEF0D2RLS67          0  ...        3             2\n",
              "1  3T8DUCXY0N6WD9X4RTLK8UN1U929TF          0  ...        3             2\n",
              "2  3I7KR83SNADXAQ7HXK7S7305BYB9KD          0  ...        3             2\n",
              "3  3BO3NEOQM0HK9ERYPN0GQIWCPC4IAQ          0  ...        3             2\n",
              "4  3Y3CZJSZ9KT0W7I0KE38WZHHKSW5RH          0  ...        4             1\n",
              "\n",
              "[5 rows x 12 columns]"
            ]
          },
          "metadata": {
            "tags": []
          },
          "execution_count": 28
        }
      ]
    },
    {
      "cell_type": "code",
      "metadata": {
        "id": "nrQtQLOKxtsR",
        "outputId": "ff438391-de3e-49ce-92f6-995418598967",
        "colab": {
          "base_uri": "https://localhost:8080/",
          "height": 284
        }
      },
      "source": [
        "single_trial_data.describe()"
      ],
      "execution_count": null,
      "outputs": [
        {
          "output_type": "execute_result",
          "data": {
            "text/html": [
              "<div>\n",
              "<style scoped>\n",
              "    .dataframe tbody tr th:only-of-type {\n",
              "        vertical-align: middle;\n",
              "    }\n",
              "\n",
              "    .dataframe tbody tr th {\n",
              "        vertical-align: top;\n",
              "    }\n",
              "\n",
              "    .dataframe thead th {\n",
              "        text-align: right;\n",
              "    }\n",
              "</style>\n",
              "<table border=\"1\" class=\"dataframe\">\n",
              "  <thead>\n",
              "    <tr style=\"text-align: right;\">\n",
              "      <th></th>\n",
              "      <th>subcorpus</th>\n",
              "      <th>complexity</th>\n",
              "      <th>likert</th>\n",
              "      <th>sentence_length</th>\n",
              "      <th>s_word_count</th>\n",
              "      <th>s_avg_word_length</th>\n",
              "      <th>s_vowel_count</th>\n",
              "      <th>t_length</th>\n",
              "      <th>t_vowel_count</th>\n",
              "    </tr>\n",
              "  </thead>\n",
              "  <tbody>\n",
              "    <tr>\n",
              "      <th>count</th>\n",
              "      <td>421.000000</td>\n",
              "      <td>421.000000</td>\n",
              "      <td>421.000000</td>\n",
              "      <td>421.000000</td>\n",
              "      <td>421.000000</td>\n",
              "      <td>421.000000</td>\n",
              "      <td>421.000000</td>\n",
              "      <td>421.000000</td>\n",
              "      <td>421.000000</td>\n",
              "    </tr>\n",
              "    <tr>\n",
              "      <th>mean</th>\n",
              "      <td>1.000000</td>\n",
              "      <td>0.298631</td>\n",
              "      <td>1.724466</td>\n",
              "      <td>167.684086</td>\n",
              "      <td>27.812352</td>\n",
              "      <td>6.054632</td>\n",
              "      <td>51.662708</td>\n",
              "      <td>7.349169</td>\n",
              "      <td>2.814727</td>\n",
              "    </tr>\n",
              "    <tr>\n",
              "      <th>std</th>\n",
              "      <td>0.825198</td>\n",
              "      <td>0.137619</td>\n",
              "      <td>0.651076</td>\n",
              "      <td>92.412854</td>\n",
              "      <td>14.765966</td>\n",
              "      <td>0.836295</td>\n",
              "      <td>28.982018</td>\n",
              "      <td>2.723650</td>\n",
              "      <td>1.337685</td>\n",
              "    </tr>\n",
              "    <tr>\n",
              "      <th>min</th>\n",
              "      <td>0.000000</td>\n",
              "      <td>0.000000</td>\n",
              "      <td>1.000000</td>\n",
              "      <td>19.000000</td>\n",
              "      <td>3.000000</td>\n",
              "      <td>4.000000</td>\n",
              "      <td>4.000000</td>\n",
              "      <td>2.000000</td>\n",
              "      <td>0.000000</td>\n",
              "    </tr>\n",
              "    <tr>\n",
              "      <th>25%</th>\n",
              "      <td>0.000000</td>\n",
              "      <td>0.214286</td>\n",
              "      <td>1.000000</td>\n",
              "      <td>102.000000</td>\n",
              "      <td>17.000000</td>\n",
              "      <td>5.000000</td>\n",
              "      <td>31.000000</td>\n",
              "      <td>5.000000</td>\n",
              "      <td>2.000000</td>\n",
              "    </tr>\n",
              "    <tr>\n",
              "      <th>50%</th>\n",
              "      <td>1.000000</td>\n",
              "      <td>0.266667</td>\n",
              "      <td>2.000000</td>\n",
              "      <td>155.000000</td>\n",
              "      <td>26.000000</td>\n",
              "      <td>6.000000</td>\n",
              "      <td>47.000000</td>\n",
              "      <td>7.000000</td>\n",
              "      <td>2.000000</td>\n",
              "    </tr>\n",
              "    <tr>\n",
              "      <th>75%</th>\n",
              "      <td>2.000000</td>\n",
              "      <td>0.359375</td>\n",
              "      <td>2.000000</td>\n",
              "      <td>210.000000</td>\n",
              "      <td>35.000000</td>\n",
              "      <td>7.000000</td>\n",
              "      <td>64.000000</td>\n",
              "      <td>9.000000</td>\n",
              "      <td>4.000000</td>\n",
              "    </tr>\n",
              "    <tr>\n",
              "      <th>max</th>\n",
              "      <td>2.000000</td>\n",
              "      <td>0.875000</td>\n",
              "      <td>4.000000</td>\n",
              "      <td>572.000000</td>\n",
              "      <td>80.000000</td>\n",
              "      <td>10.000000</td>\n",
              "      <td>169.000000</td>\n",
              "      <td>13.000000</td>\n",
              "      <td>7.000000</td>\n",
              "    </tr>\n",
              "  </tbody>\n",
              "</table>\n",
              "</div>"
            ],
            "text/plain": [
              "        subcorpus  complexity  ...    t_length  t_vowel_count\n",
              "count  421.000000  421.000000  ...  421.000000     421.000000\n",
              "mean     1.000000    0.298631  ...    7.349169       2.814727\n",
              "std      0.825198    0.137619  ...    2.723650       1.337685\n",
              "min      0.000000    0.000000  ...    2.000000       0.000000\n",
              "25%      0.000000    0.214286  ...    5.000000       2.000000\n",
              "50%      1.000000    0.266667  ...    7.000000       2.000000\n",
              "75%      2.000000    0.359375  ...    9.000000       4.000000\n",
              "max      2.000000    0.875000  ...   13.000000       7.000000\n",
              "\n",
              "[8 rows x 9 columns]"
            ]
          },
          "metadata": {
            "tags": []
          },
          "execution_count": 29
        }
      ]
    },
    {
      "cell_type": "code",
      "metadata": {
        "id": "xuK1K79ovKHf",
        "outputId": "fe345d7b-e99c-44e5-9206-38d7f4ad6231",
        "colab": {
          "base_uri": "https://localhost:8080/",
          "height": 34
        }
      },
      "source": [
        "#Try out linear reg model on all features of the single trail and predict complexity \n",
        "pd_x = single_trial_data[['sentence_length', 's_word_count', 's_avg_word_length', 's_vowel_count', 't_length', 't_vowel_count']]\n",
        "pd_y = single_trial_data['complexity']\n",
        "\n",
        "reg_model = linear_model.LinearRegression()\n",
        "\n",
        "train_x, test_x, train_y, test_y = train_test_split(pd_x, pd_y, test_size=0.2, random_state=3)\n",
        "\n",
        "reg_model.fit(train_x, train_y)\n",
        "\n",
        "reg_model.coef_\n",
        "\n",
        "pred_y = reg_model.predict(test_x)\n",
        "\n",
        "mean_squared_error(test_y, pred_y)\n",
        "\n",
        "\n",
        "\n",
        "\n",
        "\n"
      ],
      "execution_count": null,
      "outputs": [
        {
          "output_type": "execute_result",
          "data": {
            "text/plain": [
              "0.01767397104591199"
            ]
          },
          "metadata": {
            "tags": []
          },
          "execution_count": 30
        }
      ]
    },
    {
      "cell_type": "code",
      "metadata": {
        "id": "th7yZCwc4by-",
        "outputId": "1ec771f8-aeb3-43fd-da50-40e674410b53",
        "colab": {
          "base_uri": "https://localhost:8080/",
          "height": 34
        }
      },
      "source": [
        "#Try out linear reg model on all features of the single trail and predict likert \n",
        "pd_x = single_trial_data[['sentence_length', 's_word_count', 's_avg_word_length', 's_vowel_count', 't_length', 't_vowel_count']]\n",
        "pd_y = single_trial_data['likert']\n",
        "\n",
        "reg_model = linear_model.LinearRegression()\n",
        "\n",
        "train_x, test_x, train_y, test_y = train_test_split(pd_x, pd_y, test_size=0.2, random_state=3)\n",
        "\n",
        "reg_model.fit(train_x, train_y)\n",
        "\n",
        "reg_model.coef_\n",
        "\n",
        "pred_y = reg_model.predict(test_x)\n",
        "pred_y = pred_y.round(0) #wel of niet afronden? \n",
        "mean_squared_error(test_y, pred_y)\n"
      ],
      "execution_count": null,
      "outputs": [
        {
          "output_type": "execute_result",
          "data": {
            "text/plain": [
              "0.5058823529411764"
            ]
          },
          "metadata": {
            "tags": []
          },
          "execution_count": 31
        }
      ]
    },
    {
      "cell_type": "code",
      "metadata": {
        "id": "R1yhnIOnyzeb",
        "outputId": "a98b99da-63e8-4045-c1c4-f8ddd5dbdf30",
        "colab": {
          "base_uri": "https://localhost:8080/",
          "height": 34
        }
      },
      "source": [
        "#Try linear svm on all features of single trial and predict likert\n",
        "X = single_trial_data[['sentence_length', 's_word_count', 's_avg_word_length', 's_vowel_count', 't_length', 't_vowel_count']]\n",
        "y = single_trial_data['likert']\n",
        "scaler = MinMaxScaler(feature_range=(0, 1))\n",
        "X = scaler.fit_transform(X)\n",
        "scores = []\n",
        "best_svm = svm.LinearSVC()\n",
        "cv = KFold(n_splits=10, shuffle=False)\n",
        "for train_index, test_index in cv.split(X):\n",
        "    X_train, X_test, y_train, y_test = X[train_index], X[test_index], y[train_index], y[test_index]\n",
        "    best_svm.fit(X_train, y_train)\n",
        "    scores.append(best_svm.score(X_test, y_test))\n",
        "print(sum(scores) / len(scores))"
      ],
      "execution_count": null,
      "outputs": [
        {
          "output_type": "stream",
          "text": [
            "0.4653377630121816\n"
          ],
          "name": "stdout"
        }
      ]
    },
    {
      "cell_type": "code",
      "metadata": {
        "id": "UEKLzXwD14sx",
        "outputId": "b1944142-e864-4faa-e258-5b0a51b9a25f",
        "colab": {
          "base_uri": "https://localhost:8080/",
          "height": 34
        }
      },
      "source": [
        "#Try multinomial NB\n",
        "X = single_trial_data[['sentence_length', 's_word_count', 's_avg_word_length', 's_vowel_count', 't_length', 't_vowel_count']]\n",
        "y = single_trial_data['likert']\n",
        "scaler = MinMaxScaler(feature_range=(0, 1))\n",
        "X = scaler.fit_transform(X)\n",
        "clf = MultinomialNB()\n",
        "cv = KFold(n_splits=10, shuffle=False)\n",
        "for train_index, test_index in cv.split(X):\n",
        "    X_train, X_test, y_train, y_test = X[train_index], X[test_index], y[train_index], y[test_index]\n",
        "    clf.fit(X_train, y_train)\n",
        "    scores.append(clf.score(X_test, y_test))\n",
        "print(sum(scores) / len(scores))\n"
      ],
      "execution_count": null,
      "outputs": [
        {
          "output_type": "stream",
          "text": [
            "0.4907253599114065\n"
          ],
          "name": "stdout"
        }
      ]
    },
    {
      "cell_type": "code",
      "metadata": {
        "id": "GUtYZ_q-5GzM",
        "outputId": "8cf9a00f-59cb-46f7-ec57-f450b39d0054",
        "colab": {
          "base_uri": "https://localhost:8080/",
          "height": 101
        }
      },
      "source": [
        "pred_y"
      ],
      "execution_count": null,
      "outputs": [
        {
          "output_type": "execute_result",
          "data": {
            "text/plain": [
              "array([2., 2., 1., 2., 1., 2., 2., 2., 1., 2., 2., 2., 2., 2., 2., 2., 2.,\n",
              "       2., 1., 1., 2., 2., 2., 2., 2., 2., 2., 2., 2., 2., 1., 2., 2., 2.,\n",
              "       2., 2., 2., 2., 2., 1., 2., 2., 2., 2., 2., 2., 2., 2., 2., 1., 2.,\n",
              "       2., 1., 2., 2., 2., 2., 2., 1., 2., 2., 2., 2., 1., 2., 2., 2., 2.,\n",
              "       2., 2., 2., 2., 2., 2., 2., 2., 2., 2., 2., 2., 2., 1., 2., 2., 2.])"
            ]
          },
          "metadata": {
            "tags": []
          },
          "execution_count": 34
        }
      ]
    }
  ]
}